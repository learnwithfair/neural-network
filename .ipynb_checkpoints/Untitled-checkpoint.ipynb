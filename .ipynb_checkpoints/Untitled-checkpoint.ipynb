{
 "cells": [
  {
   "cell_type": "code",
   "execution_count": null,
   "id": "bbbe49bc-f509-453a-85f3-a2f01749d10a",
   "metadata": {},
   "outputs": [],
   "source": [
    "!pip install numpy librosa tensorflow scikit-learn"
   ]
  },
  {
   "cell_type": "code",
   "execution_count": 2,
   "id": "d6ba07a6-a66d-4c5a-9836-7ff91ba93727",
   "metadata": {},
   "outputs": [
    {
     "ename": "ModuleNotFoundError",
     "evalue": "No module named 'librosa'",
     "output_type": "error",
     "traceback": [
      "\u001b[1;31m---------------------------------------------------------------------------\u001b[0m",
      "\u001b[1;31mModuleNotFoundError\u001b[0m                       Traceback (most recent call last)",
      "Cell \u001b[1;32mIn[2], line 2\u001b[0m\n\u001b[0;32m      1\u001b[0m \u001b[38;5;28;01mimport\u001b[39;00m \u001b[38;5;21;01mnumpy\u001b[39;00m \u001b[38;5;28;01mas\u001b[39;00m \u001b[38;5;21;01mnp\u001b[39;00m\n\u001b[1;32m----> 2\u001b[0m \u001b[38;5;28;01mimport\u001b[39;00m \u001b[38;5;21;01mlibrosa\u001b[39;00m\n\u001b[0;32m      3\u001b[0m \u001b[38;5;28;01mfrom\u001b[39;00m \u001b[38;5;21;01msklearn\u001b[39;00m\u001b[38;5;21;01m.\u001b[39;00m\u001b[38;5;21;01mmodel_selection\u001b[39;00m \u001b[38;5;28;01mimport\u001b[39;00m train_test_split\n\u001b[0;32m      4\u001b[0m \u001b[38;5;28;01mfrom\u001b[39;00m \u001b[38;5;21;01msklearn\u001b[39;00m\u001b[38;5;21;01m.\u001b[39;00m\u001b[38;5;21;01mpreprocessing\u001b[39;00m \u001b[38;5;28;01mimport\u001b[39;00m LabelEncoder\n",
      "\u001b[1;31mModuleNotFoundError\u001b[0m: No module named 'librosa'"
     ]
    }
   ],
   "source": [
    "# import numpy as np\n",
    "# import librosa\n",
    "# from sklearn.model_selection import train_test_split\n",
    "# from sklearn.preprocessing import LabelEncoder\n",
    "# from tensorflow.keras.models import Sequential\n",
    "# from tensorflow.keras.layers import Dense\n",
    "# from tensorflow.keras.utils import to_categorical\n",
    "\n",
    "# # 1. Preprocess the speech signals\n",
    "# def extract_features(file_name):\n",
    "#     audio, sample_rate = librosa.load(file_name, res_type='kaiser_fast') \n",
    "#     mfccs = librosa.feature.mfcc(y=audio, sr=sample_rate, n_mfcc=40)\n",
    "#     mfccs_scaled = np.mean(mfccs.T,axis=0)\n",
    "#     return mfccs_scaled\n",
    "\n",
    "# # Load dataset (Assume you have a dataset with files named 1.wav, 2.wav, etc.)\n",
    "# data = []\n",
    "# labels = []\n",
    "\n",
    "# for i in range(1, 5):\n",
    "#     file_name = f\"{i}.wav\"  # Example: 1.wav, 2.wav, 3.wav, 4.wav\n",
    "#     features = extract_features(file_name)\n",
    "#     data.append(features)\n",
    "#     labels.append(i)\n",
    "\n",
    "# # Convert data and labels into numpy arrays\n",
    "# X = np.array(data)\n",
    "# y = np.array(labels)\n",
    "\n",
    "# # Encode labels as categorical\n",
    "# label_encoder = LabelEncoder()\n",
    "# y_encoded = label_encoder.fit_transform(y)\n",
    "# y_onehot = to_categorical(y_encoded)\n",
    "\n",
    "# # 2. Split dataset into training and testing sets\n",
    "# X_train, X_test, y_train, y_test = train_test_split(X, y_onehot, test_size=0.2, random_state=42)\n",
    "\n",
    "# # 3. Build the ANN model\n",
    "# model = Sequential()\n",
    "# model.add(Dense(128, input_shape=(40,), activation='relu'))  # Input shape is based on the MFCC size (40)\n",
    "# model.add(Dense(64, activation='relu'))\n",
    "# model.add(Dense(4, activation='softmax'))  # Output layer for 4 classes (numbers 1 to 4)\n",
    "\n",
    "# # Compile the model\n",
    "# model.compile(loss='categorical_crossentropy', optimizer='adam', metrics=['accuracy'])\n",
    "\n",
    "# # 4. Train the model\n",
    "# model.fit(X_train, y_train, epochs=50, batch_size=8, validation_data=(X_test, y_test))\n",
    "\n",
    "# # 5. Evaluate the model\n",
    "# test_loss, test_accuracy = model.evaluate(X_test, y_test)\n",
    "# print(f\"Test accuracy: {test_accuracy * 100:.2f}%\")\n",
    "\n",
    "# # 6. Prediction\n",
    "# def predict_number(file_name):\n",
    "#     features = extract_features(file_name)\n",
    "#     features = np.expand_dims(features, axis=0)  # Expand dimensions for the ANN input\n",
    "#     prediction = model.predict(features)\n",
    "#     predicted_label = np.argmax(prediction, axis=1)\n",
    "#     predicted_number = label_encoder.inverse_transform(predicted_label)\n",
    "#     return predicted_number[0]\n",
    "\n",
    "# # Test with a new speech sample\n",
    "# predicted_number = predict_number('test.wav')\n",
    "# print(f\"The predicted number is: {predicted_number}\")\n"
   ]
  }
 ],
 "metadata": {
  "kernelspec": {
   "display_name": "Python 3 (ipykernel)",
   "language": "python",
   "name": "python3"
  },
  "language_info": {
   "codemirror_mode": {
    "name": "ipython",
    "version": 3
   },
   "file_extension": ".py",
   "mimetype": "text/x-python",
   "name": "python",
   "nbconvert_exporter": "python",
   "pygments_lexer": "ipython3",
   "version": "3.12.5"
  }
 },
 "nbformat": 4,
 "nbformat_minor": 5
}
